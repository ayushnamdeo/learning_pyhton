{
 "cells": [
  {
   "cell_type": "code",
   "execution_count": 1,
   "id": "fa97b67b",
   "metadata": {},
   "outputs": [],
   "source": [
    "import os\n",
    "import pandas as pd\n",
    "import numpy as np\n",
    "import matplotlib.pyplot as plt\n",
    "import seaborn as sbs"
   ]
  },
  {
   "cell_type": "code",
   "execution_count": 2,
   "id": "1b4d30a2",
   "metadata": {},
   "outputs": [],
   "source": [
    "%matplotlib inline"
   ]
  },
  {
   "cell_type": "code",
   "execution_count": 3,
   "id": "1c4e6a19",
   "metadata": {},
   "outputs": [],
   "source": [
    "file=pd.read_csv('Amazon Top Rated Smartphones  Accessories 2021   - amazon_top_rated_smartphones.csv')"
   ]
  },
  {
   "cell_type": "code",
   "execution_count": 4,
   "id": "f5de20ff",
   "metadata": {},
   "outputs": [
    {
     "data": {
      "text/html": [
       "<div>\n",
       "<style scoped>\n",
       "    .dataframe tbody tr th:only-of-type {\n",
       "        vertical-align: middle;\n",
       "    }\n",
       "\n",
       "    .dataframe tbody tr th {\n",
       "        vertical-align: top;\n",
       "    }\n",
       "\n",
       "    .dataframe thead th {\n",
       "        text-align: right;\n",
       "    }\n",
       "</style>\n",
       "<table border=\"1\" class=\"dataframe\">\n",
       "  <thead>\n",
       "    <tr style=\"text-align: right;\">\n",
       "      <th></th>\n",
       "      <th>Smartphone</th>\n",
       "      <th>Rating</th>\n",
       "      <th>Reviews count</th>\n",
       "      <th>Offer price</th>\n",
       "      <th>Actual price</th>\n",
       "      <th>Saving</th>\n",
       "      <th>Delivery</th>\n",
       "      <th>Status of stock &amp; more offers</th>\n",
       "    </tr>\n",
       "  </thead>\n",
       "  <tbody>\n",
       "    <tr>\n",
       "      <th>0</th>\n",
       "      <td>Redmi 9 (Sky Blue, 4GB RAM, 64GB Storage) | 2....</td>\n",
       "      <td>4.2 out of 5 stars</td>\n",
       "      <td>87,809</td>\n",
       "      <td>₹9,499</td>\n",
       "      <td>₹10,999</td>\n",
       "      <td>Save ₹1,500 (14%)</td>\n",
       "      <td>FREE Delivery by Amazon</td>\n",
       "      <td>NaN</td>\n",
       "    </tr>\n",
       "    <tr>\n",
       "      <th>1</th>\n",
       "      <td>Redmi 9A (Nature Green, 2GB RAM, 32GB Storage)...</td>\n",
       "      <td>4.2 out of 5 stars</td>\n",
       "      <td>74,587</td>\n",
       "      <td>₹6,999</td>\n",
       "      <td>₹8,499</td>\n",
       "      <td>Save ₹1,500 (18%)</td>\n",
       "      <td>FREE Delivery by Amazon</td>\n",
       "      <td>NaN</td>\n",
       "    </tr>\n",
       "    <tr>\n",
       "      <th>2</th>\n",
       "      <td>Redmi 9A (Sea Blue 2GB RAM 32GB Storage) | 2GH...</td>\n",
       "      <td>4.2 out of 5 stars</td>\n",
       "      <td>74,587</td>\n",
       "      <td>₹6,999</td>\n",
       "      <td>₹8,499</td>\n",
       "      <td>Save ₹1,500 (18%)</td>\n",
       "      <td>FREE Delivery by Amazon</td>\n",
       "      <td>NaN</td>\n",
       "    </tr>\n",
       "    <tr>\n",
       "      <th>3</th>\n",
       "      <td>Redmi Note 10 (Aqua Green, 4GB RAM, 64GB Stora...</td>\n",
       "      <td>4.2 out of 5 stars</td>\n",
       "      <td>95,519</td>\n",
       "      <td>₹13,999</td>\n",
       "      <td>₹15,999</td>\n",
       "      <td>Save ₹2,000 (13%)</td>\n",
       "      <td>FREE Delivery by Amazon</td>\n",
       "      <td>NaN</td>\n",
       "    </tr>\n",
       "    <tr>\n",
       "      <th>4</th>\n",
       "      <td>Redmi 9 (Carbon Black, 4GB RAM, 64GB Storage) ...</td>\n",
       "      <td>4.2 out of 5 stars</td>\n",
       "      <td>87,809</td>\n",
       "      <td>₹9,499</td>\n",
       "      <td>₹10,999</td>\n",
       "      <td>Save ₹1,500 (14%)</td>\n",
       "      <td>FREE Delivery by Amazon</td>\n",
       "      <td>NaN</td>\n",
       "    </tr>\n",
       "  </tbody>\n",
       "</table>\n",
       "</div>"
      ],
      "text/plain": [
       "                                          Smartphone              Rating  \\\n",
       "0  Redmi 9 (Sky Blue, 4GB RAM, 64GB Storage) | 2....  4.2 out of 5 stars   \n",
       "1  Redmi 9A (Nature Green, 2GB RAM, 32GB Storage)...  4.2 out of 5 stars   \n",
       "2  Redmi 9A (Sea Blue 2GB RAM 32GB Storage) | 2GH...  4.2 out of 5 stars   \n",
       "3  Redmi Note 10 (Aqua Green, 4GB RAM, 64GB Stora...  4.2 out of 5 stars   \n",
       "4  Redmi 9 (Carbon Black, 4GB RAM, 64GB Storage) ...  4.2 out of 5 stars   \n",
       "\n",
       "  Reviews count Offer price Actual price             Saving  \\\n",
       "0        87,809      ₹9,499      ₹10,999  Save ₹1,500 (14%)   \n",
       "1        74,587      ₹6,999       ₹8,499  Save ₹1,500 (18%)   \n",
       "2        74,587      ₹6,999       ₹8,499  Save ₹1,500 (18%)   \n",
       "3        95,519     ₹13,999      ₹15,999  Save ₹2,000 (13%)   \n",
       "4        87,809      ₹9,499      ₹10,999  Save ₹1,500 (14%)   \n",
       "\n",
       "                  Delivery Status of stock & more offers  \n",
       "0  FREE Delivery by Amazon                           NaN  \n",
       "1  FREE Delivery by Amazon                           NaN  \n",
       "2  FREE Delivery by Amazon                           NaN  \n",
       "3  FREE Delivery by Amazon                           NaN  \n",
       "4  FREE Delivery by Amazon                           NaN  "
      ]
     },
     "execution_count": 4,
     "metadata": {},
     "output_type": "execute_result"
    }
   ],
   "source": [
    "file.head()"
   ]
  },
  {
   "cell_type": "code",
   "execution_count": 5,
   "id": "aba95b7e",
   "metadata": {},
   "outputs": [
    {
     "name": "stdout",
     "output_type": "stream",
     "text": [
      "<class 'pandas.core.frame.DataFrame'>\n",
      "RangeIndex: 1368 entries, 0 to 1367\n",
      "Data columns (total 8 columns):\n",
      " #   Column                         Non-Null Count  Dtype \n",
      "---  ------                         --------------  ----- \n",
      " 0   Smartphone                     1368 non-null   object\n",
      " 1   Rating                         1368 non-null   object\n",
      " 2   Reviews count                  1368 non-null   object\n",
      " 3   Offer price                    1154 non-null   object\n",
      " 4   Actual price                   1042 non-null   object\n",
      " 5   Saving                         1151 non-null   object\n",
      " 6   Delivery                       685 non-null    object\n",
      " 7   Status of stock & more offers  498 non-null    object\n",
      "dtypes: object(8)\n",
      "memory usage: 85.6+ KB\n"
     ]
    }
   ],
   "source": [
    "file.info()"
   ]
  },
  {
   "cell_type": "code",
   "execution_count": 6,
   "id": "20cd08da",
   "metadata": {},
   "outputs": [
    {
     "data": {
      "text/html": [
       "<div>\n",
       "<style scoped>\n",
       "    .dataframe tbody tr th:only-of-type {\n",
       "        vertical-align: middle;\n",
       "    }\n",
       "\n",
       "    .dataframe tbody tr th {\n",
       "        vertical-align: top;\n",
       "    }\n",
       "\n",
       "    .dataframe thead th {\n",
       "        text-align: right;\n",
       "    }\n",
       "</style>\n",
       "<table border=\"1\" class=\"dataframe\">\n",
       "  <thead>\n",
       "    <tr style=\"text-align: right;\">\n",
       "      <th></th>\n",
       "      <th>Smartphone</th>\n",
       "      <th>Rating</th>\n",
       "      <th>Reviews count</th>\n",
       "      <th>Offer price</th>\n",
       "      <th>Actual price</th>\n",
       "      <th>Saving</th>\n",
       "      <th>Delivery</th>\n",
       "      <th>Status of stock &amp; more offers</th>\n",
       "    </tr>\n",
       "  </thead>\n",
       "  <tbody>\n",
       "    <tr>\n",
       "      <th>count</th>\n",
       "      <td>1368</td>\n",
       "      <td>1368</td>\n",
       "      <td>1368</td>\n",
       "      <td>1154</td>\n",
       "      <td>1042</td>\n",
       "      <td>1151</td>\n",
       "      <td>685</td>\n",
       "      <td>498</td>\n",
       "    </tr>\n",
       "    <tr>\n",
       "      <th>unique</th>\n",
       "      <td>1308</td>\n",
       "      <td>11</td>\n",
       "      <td>363</td>\n",
       "      <td>511</td>\n",
       "      <td>281</td>\n",
       "      <td>612</td>\n",
       "      <td>4</td>\n",
       "      <td>17</td>\n",
       "    </tr>\n",
       "    <tr>\n",
       "      <th>top</th>\n",
       "      <td>Nillkin Case for Xiaomi Mi 11X 11 X / 11X Pro/...</td>\n",
       "      <td>4.2 out of 5 stars</td>\n",
       "      <td>1</td>\n",
       "      <td>₹1,299</td>\n",
       "      <td>₹2,999</td>\n",
       "      <td>Get it by</td>\n",
       "      <td>FREE Delivery by Amazon</td>\n",
       "      <td>Only 1 left in stock.</td>\n",
       "    </tr>\n",
       "    <tr>\n",
       "      <th>freq</th>\n",
       "      <td>3</td>\n",
       "      <td>279</td>\n",
       "      <td>173</td>\n",
       "      <td>22</td>\n",
       "      <td>35</td>\n",
       "      <td>88</td>\n",
       "      <td>604</td>\n",
       "      <td>280</td>\n",
       "    </tr>\n",
       "  </tbody>\n",
       "</table>\n",
       "</div>"
      ],
      "text/plain": [
       "                                               Smartphone              Rating  \\\n",
       "count                                                1368                1368   \n",
       "unique                                               1308                  11   \n",
       "top     Nillkin Case for Xiaomi Mi 11X 11 X / 11X Pro/...  4.2 out of 5 stars   \n",
       "freq                                                    3                 279   \n",
       "\n",
       "       Reviews count Offer price Actual price     Saving  \\\n",
       "count           1368        1154         1042       1151   \n",
       "unique           363         511          281        612   \n",
       "top                1      ₹1,299       ₹2,999  Get it by   \n",
       "freq             173          22           35         88   \n",
       "\n",
       "                       Delivery Status of stock & more offers  \n",
       "count                       685                           498  \n",
       "unique                        4                            17  \n",
       "top     FREE Delivery by Amazon         Only 1 left in stock.  \n",
       "freq                        604                           280  "
      ]
     },
     "execution_count": 6,
     "metadata": {},
     "output_type": "execute_result"
    }
   ],
   "source": [
    "file.describe()"
   ]
  },
  {
   "cell_type": "code",
   "execution_count": 7,
   "id": "2da16682",
   "metadata": {},
   "outputs": [
    {
     "data": {
      "text/plain": [
       "4.2 out of 5 stars    279\n",
       "4.1 out of 5 stars    234\n",
       "4.0 out of 5 stars    228\n",
       "5.0 out of 5 stars    185\n",
       "4.6 out of 5 stars    140\n",
       "4.3 out of 5 stars    128\n",
       "4.4 out of 5 stars     69\n",
       "4.5 out of 5 stars     57\n",
       "4.7 out of 5 stars     31\n",
       "4.9 out of 5 stars     13\n",
       "4.8 out of 5 stars      4\n",
       "Name: Rating, dtype: int64"
      ]
     },
     "execution_count": 7,
     "metadata": {},
     "output_type": "execute_result"
    }
   ],
   "source": [
    "file['Rating'].value_counts()"
   ]
  },
  {
   "cell_type": "code",
   "execution_count": 8,
   "id": "2fa61686",
   "metadata": {},
   "outputs": [],
   "source": [
    "df1=file['Rating']"
   ]
  },
  {
   "cell_type": "code",
   "execution_count": 9,
   "id": "ade8ac5d",
   "metadata": {},
   "outputs": [
    {
     "data": {
      "text/plain": [
       "279"
      ]
     },
     "execution_count": 9,
     "metadata": {},
     "output_type": "execute_result"
    }
   ],
   "source": [
    "file[file[\"Rating\"] == '4.2 out of 5 stars'].count()[0]"
   ]
  },
  {
   "cell_type": "code",
   "execution_count": 10,
   "id": "8beba163",
   "metadata": {},
   "outputs": [],
   "source": [
    "x=np.linspace(1,5,5)"
   ]
  },
  {
   "cell_type": "code",
   "execution_count": 29,
   "id": "05425708",
   "metadata": {},
   "outputs": [
    {
     "data": {
      "text/plain": [
       "<Axes:xlabel='Rating', ylabel='count'>"
      ]
     },
     "execution_count": 29,
     "metadata": {},
     "output_type": "execute_result"
    },
    {
     "data": {
      "image/png": "[encoded data removed]",
      "text/plain": [
       "<Figure size 1080x360 with 1 Axes>"
      ]
     },
     "metadata": {
      "needs_background": "light"
     },
     "output_type": "display_data"
    }
   ],
   "source": [
    "fig=plt.figure(figsize=(15,5))\n",
    "ax=fig.add_axes([0,0,1,1])\n",
    "ax.set_yticks([0,70,140,210,280])\n",
    "sbs.countplot(x='Rating',data=file)"
   ]
  },
  {
   "cell_type": "code",
   "execution_count": null,
   "id": "127ef6e9",
   "metadata": {},
   "outputs": [],
   "source": []
  }
 ],
 "metadata": {
  "kernelspec": {
   "display_name": "Python 3 (ipykernel)",
   "language": "python",
   "name": "python3"
  },
  "language_info": {
   "codemirror_mode": {
    "name": "ipython",
    "version": 3
   },
   "file_extension": ".py",
   "mimetype": "text/x-python",
   "name": "python",
   "nbconvert_exporter": "python",
   "pygments_lexer": "ipython3",
   "version": "3.9.6"
  }
 },
 "nbformat": 4,
 "nbformat_minor": 5
}
